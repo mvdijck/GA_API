{
 "cells": [
  {
   "cell_type": "markdown",
   "metadata": {},
   "source": [
    "Google Analytics API - Data Collection"
   ]
  },
  {
   "cell_type": "code",
   "execution_count": 39,
   "metadata": {},
   "outputs": [],
   "source": [
    "# Import libraries \n",
    "import pandas as pd\n",
    "import warnings\n",
    "warnings.filterwarnings(\"ignore\")"
   ]
  },
  {
   "cell_type": "code",
   "execution_count": 40,
   "metadata": {},
   "outputs": [],
   "source": [
    "# Import the code for fetching GA Data\n",
    "from gaData2 import *"
   ]
  },
  {
   "cell_type": "code",
   "execution_count": 41,
   "metadata": {},
   "outputs": [],
   "source": [
    "######### Configure the inputs ##################\n",
    "### Replace with your own view_id\n",
    "gaView = \"ga:3074043\"\n",
    "### Set the date range for your data\n",
    "start_date='2019-01-01'\n",
    "end_date='2019-01-01'\n",
    "### Replace with your own segmentId you found in Query Explorer\n",
    "#segments = [{\"segmentId\": \"gaid::xxxxxxxxxxxxxx\"}]\n",
    "filters=\"ga:country==Netherlands\"\n",
    "### To get data, we must have one metrics, here we use sessions\n",
    "metrics=[{\"expression\": \"ga:itemRevenue\"},{\"expression\": \"ga:uniquePurchases\"},\n",
    "         {\"expression\": \"ga:itemQuantity\"}]\n",
    "### Replace with your own custom dimention ID and include segment also\n",
    "dimensions=[{\"name\": \"ga:productBrand\"}, {\"name\":\"ga:longitude\"}, {\"name\": \"ga:latitude\"},\n",
    "           {\"name\": \"ga:date\"},{\"name\": \"ga:city\"},{\"name\": \"ga:productCategoryHierarchy\"},\n",
    "           {\"name\": \"ga:country\"}]\n",
    "### Your data will be grouped by the dimensions you use \n",
    "group_by = [\"ga:productBrand\", \"ga:longitude\", \"ga:latitude\", \"ga:date\", \"ga:country\",\"ga:city\", \"ga:productCategoryHierarchy\"]\n",
    "### Set your client secret path where you put your client credentials \n",
    "CLIENT_SECRETS_PATH = 'client_secrets_dept.json'"
   ]
  },
  {
   "cell_type": "code",
   "execution_count": 42,
   "metadata": {},
   "outputs": [],
   "source": [
    "\n",
    "# Initiate the analytics client\n",
    "analytics = initialize_analyticsreporting(CLIENT_SECRETS_PATH)"
   ]
  },
  {
   "cell_type": "code",
   "execution_count": 43,
   "metadata": {},
   "outputs": [
    {
     "data": {
      "text/html": [
       "<div>\n",
       "<style scoped>\n",
       "    .dataframe tbody tr th:only-of-type {\n",
       "        vertical-align: middle;\n",
       "    }\n",
       "\n",
       "    .dataframe tbody tr th {\n",
       "        vertical-align: top;\n",
       "    }\n",
       "\n",
       "    .dataframe thead th {\n",
       "        text-align: right;\n",
       "    }\n",
       "</style>\n",
       "<table border=\"1\" class=\"dataframe\">\n",
       "  <thead>\n",
       "    <tr style=\"text-align: right;\">\n",
       "      <th></th>\n",
       "      <th>ga:productBrand</th>\n",
       "      <th>ga:longitude</th>\n",
       "      <th>ga:latitude</th>\n",
       "      <th>ga:date</th>\n",
       "      <th>ga:country</th>\n",
       "      <th>ga:city</th>\n",
       "      <th>ga:productCategoryHierarchy</th>\n",
       "      <th>ga:itemQuantity</th>\n",
       "      <th>ga:itemRevenue</th>\n",
       "      <th>ga:uniquePurchases</th>\n",
       "    </tr>\n",
       "  </thead>\n",
       "  <tbody>\n",
       "    <tr>\n",
       "      <th>0</th>\n",
       "      <td>181</td>\n",
       "      <td>5.4836</td>\n",
       "      <td>52.2225</td>\n",
       "      <td>20190101</td>\n",
       "      <td>Netherlands</td>\n",
       "      <td>Nijkerk</td>\n",
       "      <td>Sneakers</td>\n",
       "      <td>1.0</td>\n",
       "      <td>103.26</td>\n",
       "      <td>1.0</td>\n",
       "    </tr>\n",
       "    <tr>\n",
       "      <th>1</th>\n",
       "      <td>A.S.98</td>\n",
       "      <td>4.6591</td>\n",
       "      <td>52.0313</td>\n",
       "      <td>20190101</td>\n",
       "      <td>Netherlands</td>\n",
       "      <td>Waddinxveen</td>\n",
       "      <td>Biker boots</td>\n",
       "      <td>1.0</td>\n",
       "      <td>115.66</td>\n",
       "      <td>1.0</td>\n",
       "    </tr>\n",
       "    <tr>\n",
       "      <th>2</th>\n",
       "      <td>A.S.98</td>\n",
       "      <td>4.7683</td>\n",
       "      <td>51.5719</td>\n",
       "      <td>20190101</td>\n",
       "      <td>Netherlands</td>\n",
       "      <td>Breda</td>\n",
       "      <td>Biker boots</td>\n",
       "      <td>1.0</td>\n",
       "      <td>116.08</td>\n",
       "      <td>1.0</td>\n",
       "    </tr>\n",
       "    <tr>\n",
       "      <th>3</th>\n",
       "      <td>A.S.98</td>\n",
       "      <td>6.0224</td>\n",
       "      <td>50.8928</td>\n",
       "      <td>20190101</td>\n",
       "      <td>Netherlands</td>\n",
       "      <td>Landgraaf</td>\n",
       "      <td>Biker boots</td>\n",
       "      <td>2.0</td>\n",
       "      <td>232.11</td>\n",
       "      <td>2.0</td>\n",
       "    </tr>\n",
       "    <tr>\n",
       "      <th>4</th>\n",
       "      <td>ADIDAS</td>\n",
       "      <td>3.6110</td>\n",
       "      <td>51.4988</td>\n",
       "      <td>20190101</td>\n",
       "      <td>Netherlands</td>\n",
       "      <td>Middelburg</td>\n",
       "      <td>Sneakers</td>\n",
       "      <td>1.0</td>\n",
       "      <td>66.86</td>\n",
       "      <td>1.0</td>\n",
       "    </tr>\n",
       "  </tbody>\n",
       "</table>\n",
       "</div>"
      ],
      "text/plain": [
       "  ga:productBrand ga:longitude ga:latitude   ga:date   ga:country  \\\n",
       "0             181       5.4836     52.2225  20190101  Netherlands   \n",
       "1          A.S.98       4.6591     52.0313  20190101  Netherlands   \n",
       "2          A.S.98       4.7683     51.5719  20190101  Netherlands   \n",
       "3          A.S.98       6.0224     50.8928  20190101  Netherlands   \n",
       "4          ADIDAS       3.6110     51.4988  20190101  Netherlands   \n",
       "\n",
       "       ga:city ga:productCategoryHierarchy  ga:itemQuantity  ga:itemRevenue  \\\n",
       "0      Nijkerk                    Sneakers              1.0          103.26   \n",
       "1  Waddinxveen                 Biker boots              1.0          115.66   \n",
       "2        Breda                 Biker boots              1.0          116.08   \n",
       "3    Landgraaf                 Biker boots              2.0          232.11   \n",
       "4   Middelburg                    Sneakers              1.0           66.86   \n",
       "\n",
       "   ga:uniquePurchases  \n",
       "0                 1.0  \n",
       "1                 1.0  \n",
       "2                 1.0  \n",
       "3                 2.0  \n",
       "4                 1.0  "
      ]
     },
     "execution_count": 43,
     "metadata": {},
     "output_type": "execute_result"
    }
   ],
   "source": [
    "######### Run the program to get data ##################\n",
    "start_time = time.time()\n",
    "data = return_ga_data(analytics,\n",
    "                      start_date= start_date,\n",
    "                      end_date=end_date,\n",
    "                      view_id=gaView,\n",
    "                      metrics=metrics,\n",
    "                      dimensions=dimensions,\n",
    "                      filters=filters,\n",
    "                      group_by = group_by)\n",
    "                      #segments = segments,\n",
    "                      \n",
    "data.head()"
   ]
  },
  {
   "cell_type": "code",
   "execution_count": null,
   "metadata": {},
   "outputs": [],
   "source": []
  },
  {
   "cell_type": "code",
   "execution_count": null,
   "metadata": {},
   "outputs": [],
   "source": []
  },
  {
   "cell_type": "code",
   "execution_count": null,
   "metadata": {},
   "outputs": [],
   "source": []
  },
  {
   "cell_type": "code",
   "execution_count": null,
   "metadata": {},
   "outputs": [],
   "source": []
  }
 ],
 "metadata": {
  "kernelspec": {
   "display_name": "Python 3",
   "language": "python",
   "name": "python3"
  },
  "language_info": {
   "codemirror_mode": {
    "name": "ipython",
    "version": 3
   },
   "file_extension": ".py",
   "mimetype": "text/x-python",
   "name": "python",
   "nbconvert_exporter": "python",
   "pygments_lexer": "ipython3",
   "version": "3.7.3"
  }
 },
 "nbformat": 4,
 "nbformat_minor": 2
}
